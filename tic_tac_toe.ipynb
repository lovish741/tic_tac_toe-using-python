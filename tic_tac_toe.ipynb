{
 "cells": [
  {
   "cell_type": "code",
   "execution_count": 9,
   "metadata": {},
   "outputs": [],
   "source": [
    "#keep asking for an input untill it is valid\n",
    "def myfunc():\n",
    "    index='a'\n",
    "    while index.isdigit()==False:\n",
    "        index=input('Enter number between 1-3: ')\n",
    "        item=range(1,4)\n",
    "        if index.isdigit():\n",
    "            if int(index) not in item:\n",
    "                print('Not in range...')\n",
    "                index='a'\n",
    "        else:\n",
    "            print('Not a valid integer')\n",
    "    return index\n",
    "    "
   ]
  },
  {
   "cell_type": "code",
   "execution_count": 10,
   "metadata": {},
   "outputs": [
    {
     "name": "stdout",
     "output_type": "stream",
     "text": [
      "Enter number between 1-3: 1\n"
     ]
    },
    {
     "data": {
      "text/plain": [
       "'1'"
      ]
     },
     "execution_count": 10,
     "metadata": {},
     "output_type": "execute_result"
    }
   ],
   "source": [
    "myfunc()"
   ]
  },
  {
   "cell_type": "code",
   "execution_count": null,
   "metadata": {},
   "outputs": [],
   "source": []
  },
  {
   "cell_type": "code",
   "execution_count": null,
   "metadata": {},
   "outputs": [],
   "source": []
  },
  {
   "cell_type": "code",
   "execution_count": null,
   "metadata": {},
   "outputs": [],
   "source": []
  },
  {
   "cell_type": "code",
   "execution_count": null,
   "metadata": {},
   "outputs": [],
   "source": []
  },
  {
   "cell_type": "code",
   "execution_count": null,
   "metadata": {},
   "outputs": [],
   "source": []
  },
  {
   "cell_type": "code",
   "execution_count": null,
   "metadata": {},
   "outputs": [],
   "source": []
  },
  {
   "cell_type": "code",
   "execution_count": null,
   "metadata": {},
   "outputs": [],
   "source": []
  },
  {
   "cell_type": "code",
   "execution_count": null,
   "metadata": {},
   "outputs": [],
   "source": []
  },
  {
   "cell_type": "code",
   "execution_count": null,
   "metadata": {},
   "outputs": [],
   "source": []
  },
  {
   "cell_type": "code",
   "execution_count": 1,
   "metadata": {},
   "outputs": [],
   "source": [
    "#game start"
   ]
  },
  {
   "cell_type": "code",
   "execution_count": 2,
   "metadata": {},
   "outputs": [],
   "source": [
    "def display_message():\n",
    "    print('Welcome to Tic Tac Toe!')"
   ]
  },
  {
   "cell_type": "code",
   "execution_count": 3,
   "metadata": {},
   "outputs": [],
   "source": [
    "def choose_o_x():\n",
    "    choice='wrong'\n",
    "    while choice.lower() not in ['x','o']:\n",
    "        choice=input('Player 1: Do you want be X or O ?')\n",
    "    return choice.lower()\n",
    "    "
   ]
  },
  {
   "cell_type": "code",
   "execution_count": 4,
   "metadata": {},
   "outputs": [],
   "source": [
    "def random_choose_who_play_first():\n",
    "    from random import randint\n",
    "    val=randint(0,1)\n",
    "    print(f'Player {val+1} will go first')\n",
    "    return val"
   ]
  },
  {
   "cell_type": "code",
   "execution_count": 5,
   "metadata": {},
   "outputs": [],
   "source": [
    "def replay():\n",
    "    return input('Do you want to play again? Enter Yes or No:')\n",
    "    "
   ]
  },
  {
   "cell_type": "code",
   "execution_count": 6,
   "metadata": {},
   "outputs": [],
   "source": [
    "def display_board(inp):\n",
    "    print(f'{inp[6]}|{inp[7]}|{inp[8]}')\n",
    "    print('- - -')\n",
    "    print(f'{inp[3]}|{inp[4]}|{inp[5]}')\n",
    "    print('- - -')\n",
    "    print(f'{inp[0]}|{inp[1]}|{inp[2]}')"
   ]
  },
  {
   "cell_type": "code",
   "execution_count": 7,
   "metadata": {},
   "outputs": [],
   "source": [
    "def win_logic(inp):\n",
    "    if (inp[0]=='x' and inp[1]=='x' and inp[2]=='x') or (inp[3]=='x' and inp[4]=='x' and inp[5]=='x') or (inp[6]=='x' and inp[7]=='x' and inp[8]=='x'):\n",
    "        return 'x'\n",
    "    elif (inp[0]=='x' and inp[3]=='x' and inp[6]=='x') or (inp[7]=='x' and inp[4]=='x' and inp[1]=='x') or (inp[8]=='x' and inp[5]=='x' and inp[2]=='x'):\n",
    "        return 'x'\n",
    "    elif (inp[0]=='o' and inp[1]=='o' and inp[2]=='o') or (inp[3]=='o' and inp[4]=='o' and inp[5]=='o') or (inp[6]=='o' and inp[7]=='o' and inp[8]=='o'):\n",
    "        return 'o'\n",
    "    elif (inp[0]=='o' and inp[3]=='o' and inp[6]=='o') or (inp[7]=='o' and inp[4]=='o' and inp[1]=='o') or (inp[8]=='o' and inp[5]=='o' and inp[2]=='o'):\n",
    "        return 'o'\n",
    "    elif ((inp[6]=='o' and inp[4]=='o' and inp[2]=='o') or (inp[0]=='o' and inp[4]=='o' and inp[8]=='o')):\n",
    "        return 'o'\n",
    "    elif ((inp[6]=='x' and inp[4]=='x' and inp[2]=='x') or (inp[0]=='x' and inp[4]=='x' and inp[8]=='x')):\n",
    "        return 'x'\n",
    "    return 'n'"
   ]
  },
  {
   "cell_type": "code",
   "execution_count": 10,
   "metadata": {},
   "outputs": [],
   "source": [
    "def wanna_play(player_data,plays_first):\n",
    "    if input('Are you ready to play? Enter Yes or No.')=='y':\n",
    "        #print('lets play')\n",
    "        inp=[' ',' ',' ',' ',' ',' ',' ',' ',' ']\n",
    "        while ' ' in inp:\n",
    "            val=0\n",
    "            \n",
    "            display_board(inp)\n",
    "            while val not in range(1,10):\n",
    "                val = int(input('Choose your next position: (1-9) '))\n",
    "                if inp[val-1]!=' ':\n",
    "                    val=0\n",
    "            inp[val-1]=player_data[plays_first];\n",
    "            plays_first^=1\n",
    "            display_board(inp)\n",
    "            result=win_logic(inp)\n",
    "            if result=='x':\n",
    "                if player_data[0]=='x':\n",
    "                    index=1\n",
    "                else:\n",
    "                    index=2\n",
    "                print(f'Player {index} wins!')\n",
    "                break\n",
    "            elif result=='o':\n",
    "                if player_data[0]=='o':\n",
    "                    index=1\n",
    "                else:\n",
    "                    index=2\n",
    "                print(f'Player {index} wins!')\n",
    "                break\n",
    "            from IPython.display import clear_output\n",
    "            clear_output()\n",
    "        else:\n",
    "            print('Game Draw')\n",
    "        "
   ]
  },
  {
   "cell_type": "code",
   "execution_count": 11,
   "metadata": {},
   "outputs": [
    {
     "name": "stdout",
     "output_type": "stream",
     "text": [
      " |x|o\n",
      "- - -\n",
      "x|o| \n",
      "- - -\n",
      "x| |o\n",
      "Choose your next position: (1-9) 7\n",
      "o|x|o\n",
      "- - -\n",
      "x|o| \n",
      "- - -\n",
      "x| |o\n",
      "Player 2 wins!\n",
      "Do you want to play again? Enter Yes or No:n\n"
     ]
    }
   ],
   "source": [
    "display_message()\n",
    "\n",
    "ch='y'\n",
    "while ch == 'y':\n",
    "    player=[' ',' ']\n",
    "    player[0]=choose_o_x()\n",
    "    if player[0]=='x':\n",
    "        player[1]='o'\n",
    "    else:\n",
    "        player[1]='x'\n",
    "\n",
    "    player_who_play_first=random_choose_who_play_first()\n",
    "    \n",
    "    wanna_play(player,player_who_play_first)\n",
    "\n",
    "    ch=replay()"
   ]
  },
  {
   "cell_type": "code",
   "execution_count": null,
   "metadata": {},
   "outputs": [],
   "source": []
  }
 ],
 "metadata": {
  "kernelspec": {
   "display_name": "Python 3",
   "language": "python",
   "name": "python3"
  },
  "language_info": {
   "codemirror_mode": {
    "name": "ipython",
    "version": 3
   },
   "file_extension": ".py",
   "mimetype": "text/x-python",
   "name": "python",
   "nbconvert_exporter": "python",
   "pygments_lexer": "ipython3",
   "version": "3.8.3"
  }
 },
 "nbformat": 4,
 "nbformat_minor": 4
}
